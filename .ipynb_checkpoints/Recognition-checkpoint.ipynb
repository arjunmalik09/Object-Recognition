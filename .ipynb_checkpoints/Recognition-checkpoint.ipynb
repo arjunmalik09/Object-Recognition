{
 "cells": [
  {
   "cell_type": "code",
   "execution_count": 1,
   "metadata": {
    "collapsed": false
   },
   "outputs": [],
   "source": [
    "import os\n",
    "import cv2\n",
    "import numpy as np\n",
    "import xml.etree.ElementTree as ET\n",
    "\n",
    "from constants import *\n",
    "from functions import show, put_labels"
   ]
  },
  {
   "cell_type": "code",
   "execution_count": 6,
   "metadata": {
    "collapsed": false,
    "scrolled": true
   },
   "outputs": [
    {
     "name": "stdout",
     "output_type": "stream",
     "text": [
      "375\n",
      "500\n",
      "3\n",
      "(375, 500, 3)\n",
      "[[42 43 41]\n",
      " [43 44 42]\n",
      " [45 46 44]\n",
      " ..., \n",
      " [81 80 82]\n",
      " [76 75 77]\n",
      " [69 68 70]]\n",
      "[69 68 70]\n"
     ]
    }
   ],
   "source": [
    "img = cv2.imread(folder_test+'/000658.jpg')\n",
    "print len(img)\n",
    "print len(img[0])\n",
    "print len(img[0][0])\n",
    "print img.shape\n",
    "print img[374]\n",
    "print img[374][499]\n",
    "\n",
    "# color = (0, 255, 0)\n",
    "# thickness = 2\n",
    "# cv2.rectangle(img, (1,1), (499,299), color, thickness)\n",
    "show(img)"
   ]
  },
  {
   "cell_type": "code",
   "execution_count": 2,
   "metadata": {
    "collapsed": false
   },
   "outputs": [],
   "source": [
    "def filter_features(fd):\n",
    "    return [f for f in fd if len(f)==2048]"
   ]
  },
  {
   "cell_type": "code",
   "execution_count": 3,
   "metadata": {
    "collapsed": false
   },
   "outputs": [],
   "source": [
    "class_positives = np.load('cat_vs_dogs_positives.npy')\n",
    "#class_negatives = np.load('cat_vs_dogs_negatives.npy')\n",
    "\n",
    "#get dicts from numpy array\n",
    "class_positives = class_positives[()]"
   ]
  },
  {
   "cell_type": "code",
   "execution_count": 5,
   "metadata": {
    "collapsed": false,
    "scrolled": true
   },
   "outputs": [
    {
     "data": {
      "text/plain": [
       "['sheep',\n",
       " 'horse',\n",
       " 'bicycle',\n",
       " 'bottle',\n",
       " 'cow',\n",
       " 'sofa',\n",
       " 'dog',\n",
       " 'bus',\n",
       " 'cat',\n",
       " 'person',\n",
       " 'train',\n",
       " 'boat',\n",
       " 'aeroplane',\n",
       " 'car',\n",
       " 'pottedplant',\n",
       " 'tvmonitor',\n",
       " 'chair',\n",
       " 'bird',\n",
       " 'diningtable',\n",
       " 'motorbike']"
      ]
     },
     "execution_count": 5,
     "metadata": {},
     "output_type": "execute_result"
    }
   ],
   "source": [
    "dog = class_positives['dog']\n",
    "cat = class_positives['cat']\n",
    "print 'before filtering',len(dog),len(cat)\n",
    "dog = filter_features(dog)\n",
    "cat = filter_features(cat)\n",
    "print 'after filtering',len(dog),len(cat)"
   ]
  },
  {
   "cell_type": "code",
   "execution_count": null,
   "metadata": {
    "collapsed": true
   },
   "outputs": [],
   "source": []
  }
 ],
 "metadata": {
  "anaconda-cloud": {},
  "kernelspec": {
   "display_name": "Python [default]",
   "language": "python",
   "name": "python2"
  },
  "language_info": {
   "codemirror_mode": {
    "name": "ipython",
    "version": 2
   },
   "file_extension": ".py",
   "mimetype": "text/x-python",
   "name": "python",
   "nbconvert_exporter": "python",
   "pygments_lexer": "ipython2",
   "version": "2.7.12"
  }
 },
 "nbformat": 4,
 "nbformat_minor": 1
}
